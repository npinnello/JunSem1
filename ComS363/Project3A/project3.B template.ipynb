{
 "cells": [
  {
   "cell_type": "code",
   "execution_count": 1,
   "metadata": {},
   "outputs": [
    {
     "ename": "ModuleNotFoundError",
     "evalue": "No module named 'pymongo'",
     "output_type": "error",
     "traceback": [
      "\u001b[0;31m---------------------------------------------------------------------------\u001b[0m",
      "\u001b[0;31mModuleNotFoundError\u001b[0m                       Traceback (most recent call last)",
      "\u001b[1;32m/Users/nickpinnello/Desktop/JunSem1/ComS363/Project3A/project3.B template.ipynb Cell 1\u001b[0m line \u001b[0;36m2\n\u001b[1;32m      <a href='vscode-notebook-cell:/Users/nickpinnello/Desktop/JunSem1/ComS363/Project3A/project3.B%20template.ipynb#W0sZmlsZQ%3D%3D?line=0'>1</a>\u001b[0m \u001b[39m# import all libs (do not change)\u001b[39;00m\n\u001b[0;32m----> <a href='vscode-notebook-cell:/Users/nickpinnello/Desktop/JunSem1/ComS363/Project3A/project3.B%20template.ipynb#W0sZmlsZQ%3D%3D?line=1'>2</a>\u001b[0m \u001b[39mfrom\u001b[39;00m \u001b[39mpymongo\u001b[39;00m \u001b[39mimport\u001b[39;00m MongoClient\n\u001b[1;32m      <a href='vscode-notebook-cell:/Users/nickpinnello/Desktop/JunSem1/ComS363/Project3A/project3.B%20template.ipynb#W0sZmlsZQ%3D%3D?line=2'>3</a>\u001b[0m \u001b[39mfrom\u001b[39;00m \u001b[39mpymongo\u001b[39;00m\u001b[39m.\u001b[39;00m\u001b[39mmongo_client\u001b[39;00m \u001b[39mimport\u001b[39;00m MongoClient\n\u001b[1;32m      <a href='vscode-notebook-cell:/Users/nickpinnello/Desktop/JunSem1/ComS363/Project3A/project3.B%20template.ipynb#W0sZmlsZQ%3D%3D?line=3'>4</a>\u001b[0m \u001b[39mfrom\u001b[39;00m \u001b[39mpymongo\u001b[39;00m\u001b[39m.\u001b[39;00m\u001b[39mserver_api\u001b[39;00m \u001b[39mimport\u001b[39;00m ServerApi\n",
      "\u001b[0;31mModuleNotFoundError\u001b[0m: No module named 'pymongo'"
     ]
    }
   ],
   "source": [
    "# import all libs (do not change)\n",
    "from pymongo import MongoClient\n",
    "from pymongo.mongo_client import MongoClient\n",
    "from pymongo.server_api import ServerApi\n",
    "import json\n",
    "from bson import Code\n",
    "import pymongo\n",
    "import pprint\n",
    "import nltk\n",
    "from nltk.corpus import stopwords\n",
    "import nbformat\n",
    "from nbconvert.preprocessors import ExecutePreprocessor\n",
    "nltk.download('stopwords')\n",
    "nltk.download('punkt')"
   ]
  },
  {
   "cell_type": "code",
   "execution_count": 2,
   "metadata": {},
   "outputs": [
    {
     "ename": "NameError",
     "evalue": "name 'MongoClient' is not defined",
     "output_type": "error",
     "traceback": [
      "\u001b[0;31m---------------------------------------------------------------------------\u001b[0m",
      "\u001b[0;31mNameError\u001b[0m                                 Traceback (most recent call last)",
      "\u001b[1;32m/Users/nickpinnello/Desktop/JunSem1/ComS363/Project3A/project3.B template.ipynb Cell 2\u001b[0m line \u001b[0;36m4\n\u001b[1;32m      <a href='vscode-notebook-cell:/Users/nickpinnello/Desktop/JunSem1/ComS363/Project3A/project3.B%20template.ipynb#W1sZmlsZQ%3D%3D?line=1'>2</a>\u001b[0m uri \u001b[39m=\u001b[39m \u001b[39m\"\u001b[39m\u001b[39mmongodb+srv://npinnello1234:<password>@cluster0.xxbbafu.mongodb.net/?retryWrites=true&w=majority\u001b[39m\u001b[39m\"\u001b[39m\n\u001b[1;32m      <a href='vscode-notebook-cell:/Users/nickpinnello/Desktop/JunSem1/ComS363/Project3A/project3.B%20template.ipynb#W1sZmlsZQ%3D%3D?line=2'>3</a>\u001b[0m \u001b[39m# Create a new client and connect to the server\u001b[39;00m\n\u001b[0;32m----> <a href='vscode-notebook-cell:/Users/nickpinnello/Desktop/JunSem1/ComS363/Project3A/project3.B%20template.ipynb#W1sZmlsZQ%3D%3D?line=3'>4</a>\u001b[0m client \u001b[39m=\u001b[39m MongoClient(uri, server_api\u001b[39m=\u001b[39mServerApi(\u001b[39m'\u001b[39m\u001b[39m1\u001b[39m\u001b[39m'\u001b[39m))\n\u001b[1;32m      <a href='vscode-notebook-cell:/Users/nickpinnello/Desktop/JunSem1/ComS363/Project3A/project3.B%20template.ipynb#W1sZmlsZQ%3D%3D?line=4'>5</a>\u001b[0m \u001b[39m# Send a ping to confirm a successful connection\u001b[39;00m\n\u001b[1;32m      <a href='vscode-notebook-cell:/Users/nickpinnello/Desktop/JunSem1/ComS363/Project3A/project3.B%20template.ipynb#W1sZmlsZQ%3D%3D?line=5'>6</a>\u001b[0m \u001b[39mtry\u001b[39;00m:\n",
      "\u001b[0;31mNameError\u001b[0m: name 'MongoClient' is not defined"
     ]
    }
   ],
   "source": [
    "# fill in uri \n",
    "uri = \"mongodb+srv://npinnello1234:<password>@cluster0.xxbbafu.mongodb.net/?retryWrites=true&w=majority\"\n",
    "# Create a new client and connect to the server\n",
    "client = MongoClient(uri, server_api=ServerApi('1'))\n",
    "# Send a ping to confirm a successful connection\n",
    "try:\n",
    "    capture = client.admin.command('ping')\n",
    "    print(\"Pinged your deployment. You successfully connected to MongoDB!\", capture)\n",
    "except Exception as e:\n",
    "    print(e)"
   ]
  },
  {
   "cell_type": "code",
   "execution_count": null,
   "metadata": {},
   "outputs": [],
   "source": [
    "# database (do not change)\n",
    "db = client['test']\n",
    "posts = db['litcovidtest'] "
   ]
  },
  {
   "cell_type": "code",
   "execution_count": null,
   "metadata": {},
   "outputs": [],
   "source": [
    "# transaction preparation\n",
    "# first need to query the database to obtain all 'passages.text'\n",
    "# fill in (10pts)\n",
    "result = \n",
    "\n",
    "\n",
    "\n",
    "stops = set(stopwords.words('english'))\n",
    "trns = []\n",
    "for post in result:\n",
    "# get each paper\n",
    "    for text in post['passages']:\n",
    "        #get each paragraph in passages\n",
    "        t=text['text']\n",
    "        trn = set()\n",
    "        # seperate sentences\n",
    "        sentences = nltk.sent_tokenize(t)\n",
    "        for sent in sentences:\n",
    "            # seperate words\n",
    "            tokens = nltk.word_tokenize(sent)\n",
    "            for token in tokens:\n",
    "                # convert all words to lower case\n",
    "                token=token.lower()\n",
    "                # remove stopwords, punctuations, and single char\n",
    "                if token not in stops and len(token)>1 :\n",
    "                     trn.add(token)\n",
    "        trns.append(list(trn))   \n",
    "# trns is the list of transactions\n",
    "\n",
    "print(\"count of transactions:\", len(trns))"
   ]
  },
  {
   "cell_type": "code",
   "execution_count": null,
   "metadata": {},
   "outputs": [],
   "source": [
    "# functions to mine patterns and their frequency \n",
    "# fill in function \n",
    "def frequentItem(transactions, minSupport, k):"
   ]
  },
  {
   "cell_type": "code",
   "execution_count": null,
   "metadata": {},
   "outputs": [],
   "source": [
    "# find all frequent 1-itemset with minSupport = 200\n",
    "# 20pts\n",
    "f1item=frequentItem(trns, minSupport=200, k=1)\n",
    "countF1item = len(f1item)\n",
    "print(\"count of frequent 1-itemset with minSupport=200:\", countF1item)\n",
    "pprint.pprint(f1item[0:5])"
   ]
  },
  {
   "cell_type": "code",
   "execution_count": null,
   "metadata": {},
   "outputs": [],
   "source": [
    "# find all frequent 1-itemset with minSupport = 500\n",
    "# 10pts\n",
    "f1item=frequentItem(trns, minSupport=500, k=1)\n",
    "countF1item = len(f1item)\n",
    "print(\"count of frequent 1-itemset with minSupport=500:\", countF1item)"
   ]
  },
  {
   "cell_type": "code",
   "execution_count": null,
   "metadata": {},
   "outputs": [],
   "source": [
    "# find all frequent 1-itemset with minSupport = 1000\n",
    "# 10pts\n",
    "f1item=frequentItem(trns, minSupport=1000, k=1)\n",
    "countF1item = len(f1item)\n",
    "print(\"count of frequent 1-itemset with minSupport=1000:\", countF1item)"
   ]
  },
  {
   "cell_type": "code",
   "execution_count": null,
   "metadata": {},
   "outputs": [],
   "source": [
    "# find all frequent 2-itemset with minSupport = 200\n",
    "# 20pts\n",
    "f2item=frequentItem(trns, minSupport=200, k=2)\n",
    "countF2item = len(f2item)\n",
    "print(\"count of frequent 2-itemset with minSupport=200:\", countF2item)\n",
    "pprint.pprint(f2item[0:5])"
   ]
  },
  {
   "cell_type": "code",
   "execution_count": null,
   "metadata": {},
   "outputs": [],
   "source": [
    "# find all frequent 2-itemset with minSupport = 400\n",
    "# 10pts\n",
    "f2item=frequentItem(trns, minSupport=400, k=2)\n",
    "countF2item = len(f2item)\n",
    "print(\"count of frequent 2-itemset with minSupport=400:\", countF2item)"
   ]
  },
  {
   "cell_type": "code",
   "execution_count": null,
   "metadata": {},
   "outputs": [],
   "source": [
    "# find all frequent 2-itemset with minSupport = 600\n",
    "# 10pts\n",
    "f2item=frequentItem(trns, minSupport=600, k=2)\n",
    "countF2item = len(f2item)\n",
    "print(\"count of frequent 2-itemset with minSupport=600:\", countF2item)"
   ]
  },
  {
   "cell_type": "code",
   "execution_count": null,
   "metadata": {},
   "outputs": [],
   "source": [
    "# find all frequent 2-itemset with minSupport = 800\n",
    "# 10pts\n",
    "f2item=frequentItem(trns, minSupport=800, k=2)\n",
    "countF2item = len(f2item)\n",
    "print(\"count of frequent 2-itemset with minSupport=800:\", countF2item)"
   ]
  }
 ],
 "metadata": {
  "kernelspec": {
   "display_name": "Python 3",
   "language": "python",
   "name": "python3"
  },
  "language_info": {
   "codemirror_mode": {
    "name": "ipython",
    "version": 3
   },
   "file_extension": ".py",
   "mimetype": "text/x-python",
   "name": "python",
   "nbconvert_exporter": "python",
   "pygments_lexer": "ipython3",
   "version": "3.9.6"
  }
 },
 "nbformat": 4,
 "nbformat_minor": 2
}
